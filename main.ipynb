{
 "cells": [
  {
   "cell_type": "markdown",
   "metadata": {},
   "source": [
    "### Environment Setup"
   ]
  },
  {
   "cell_type": "code",
   "execution_count": null,
   "metadata": {},
   "outputs": [
    {
     "name": "stdout",
     "output_type": "stream",
     "text": [
      "API_KEY found!\n"
     ]
    }
   ],
   "source": [
    "import os\n",
    "import pandas as pd\n",
    "import requests\n",
    "from dotenv import load_dotenv\n",
    "\n",
    "load_dotenv()\n",
    "API_KEY = os.getenv(\"API_KEY\")\n",
    "\n",
    "if API_KEY:\n",
    "    print(\"API_KEY found!\")\n",
    "else:\n",
    "    print(\"API_KEY not found. Please set it in the .env file. See README.md for more info.\")\n",
    "    "
   ]
  },
  {
   "cell_type": "markdown",
   "metadata": {},
   "source": [
    "### Data Fetching"
   ]
  },
  {
   "cell_type": "code",
   "execution_count": 20,
   "metadata": {},
   "outputs": [
    {
     "name": "stdout",
     "output_type": "stream",
     "text": [
      "Number of categories: 259\n"
     ]
    }
   ],
   "source": [
    "# Fetch categories data from CoinMarketCap API\n",
    "categories_url = \"https://pro-api.coinmarketcap.com/v1/cryptocurrency/categories\"\n",
    "headers = {\"Accepts\": \"application/json\", \"X-CMC_PRO_API_KEY\": API_KEY}\n",
    "\n",
    "response = requests.get(categories_url, headers=headers)\n",
    "\n",
    "if response.status_code != 200:\n",
    "    print(f\"Error fetching categories: {response.status_code}\")\n",
    "    exit()\n",
    "\n",
    "# Parse response data\n",
    "categories_data = response.json()[\"data\"]\n",
    "print(f\"Number of categories: {len(categories_data)}\")"
   ]
  },
  {
   "cell_type": "markdown",
   "metadata": {},
   "source": [
    "### Data Processing"
   ]
  },
  {
   "cell_type": "code",
   "execution_count": 21,
   "metadata": {},
   "outputs": [
    {
     "name": "stdout",
     "output_type": "stream",
     "text": [
      "                           id                           name  \\\n",
      "116  618c0beeb7dd913155b462f9             Ethereum Ecosystem   \n",
      "20   6640d258f5ddfc617d4b0e37                       CMC Labs   \n",
      "190  6051a82566fc1b42617d6dc6                          Memes   \n",
      "39   658e1127598b0275bafcb61c           MultiversX Ecosystem   \n",
      "129  60fb6ba4ee872d7cfdd7556d                   Play To Earn   \n",
      "255  60291fa0db1be76c46298e83            NFTs & Collectibles   \n",
      "195  6051a82166fc1b42617d6dc1                         Gaming   \n",
      "189  6051a82666fc1b42617d6dc8                          Music   \n",
      "202  6051a81966fc1b42617d6db6  Communications & Social Media   \n",
      "32   65dda87e7b765e3ee1e908d1                Blast Ecosystem   \n",
      "\n",
      "                                                 title  \\\n",
      "116                                 Ethereum Ecosystem   \n",
      "20                                            CMC Labs   \n",
      "190                                              Memes   \n",
      "39                                MultiversX Ecosystem   \n",
      "129                                       Play To Earn   \n",
      "255  Top NFTs & Collectibles Tokens by Market Capit...   \n",
      "195                                             Gaming   \n",
      "189                                              Music   \n",
      "202                      Communications & Social Media   \n",
      "32                                     Blast Ecosystem   \n",
      "\n",
      "                                           description  num_tokens  \\\n",
      "116                                 Ethereum Ecosystem         899   \n",
      "20                                            CMC Labs           7   \n",
      "190                                              Memes        3681   \n",
      "39                                MultiversX Ecosystem          20   \n",
      "129                                       Play To Earn         398   \n",
      "255  A NFT (non-fungible token) is a special crypto...         797   \n",
      "195                                             Gaming         858   \n",
      "189                                              Music          58   \n",
      "202                      Communications & Social Media          47   \n",
      "32                                     Blast Ecosystem          23   \n",
      "\n",
      "     avg_price_change    market_cap  market_cap_change        volume  \\\n",
      "116         -0.072197  5.271942e+11          -0.062186  3.282647e+10   \n",
      "20         -20.031851  1.458933e+07          -0.073900  5.253853e+07   \n",
      "190          6.527906  1.151156e+11          -0.224785  9.625939e+09   \n",
      "39           1.157985  1.169644e+09          -0.076916  8.269636e+07   \n",
      "129          0.260710  1.204995e+10           0.647033  1.737818e+09   \n",
      "255         38.114045  4.258705e+10          38.046735  5.452548e+09   \n",
      "195          0.114979  2.726287e+10           0.436396  3.586732e+09   \n",
      "189         -3.306711  3.764145e+08           0.437045  2.723098e+07   \n",
      "202         -0.480051  1.030260e+09           1.459325  1.152625e+08   \n",
      "32           1.156126  9.545330e+07           1.124850  9.894403e+06   \n",
      "\n",
      "     volume_change              last_updated  combined_score  \n",
      "116   3.871293e+07  2023-08-09T13:57:19.587Z    3.871293e+07  \n",
      "20    3.221253e+07  2024-08-15T07:59:48.243Z    3.221253e+07  \n",
      "190   1.066765e+07  2024-12-30T07:12:14.838Z    1.066765e+07  \n",
      "39    9.040139e+05  2024-09-14T06:58:20.613Z    9.040138e+05  \n",
      "129   5.587966e+05  2023-08-09T13:47:18.452Z    5.587973e+05  \n",
      "255   2.730285e+05  2023-08-09T13:45:05.229Z    2.730665e+05  \n",
      "195   2.486738e+05  2024-12-25T05:04:56.883Z    2.486743e+05  \n",
      "189   1.060352e+05  2023-08-09T13:53:46.466Z    1.060356e+05  \n",
      "202   9.608700e+04  2023-08-09T13:50:36.141Z    9.608846e+04  \n",
      "32    6.058298e+03  2024-03-13T23:07:47.576Z    6.059423e+03  \n"
     ]
    }
   ],
   "source": [
    "# Convert categories data to a DataFrame\n",
    "categories_df = pd.DataFrame(categories_data)\n",
    "\n",
    "# Ensure numeric columns are properly cast\n",
    "categories_df[\"market_cap_change\"] = pd.to_numeric(categories_df[\"market_cap_change\"], errors=\"coerce\")\n",
    "categories_df[\"volume_change\"] = pd.to_numeric(categories_df[\"volume_change\"], errors=\"coerce\")\n",
    "\n",
    "# Combine market_cap_change and volume_change for ranking\n",
    "categories_df[\"combined_score\"] = (\n",
    "    categories_df[\"market_cap_change\"].fillna(0) + categories_df[\"volume_change\"].fillna(0)\n",
    ")\n",
    "\n",
    "# Select the top-performing categories\n",
    "top_categories = categories_df.sort_values(by=\"combined_score\", ascending=False).head(10)\n",
    "\n",
    "# Save results\n",
    "top_categories.to_csv(\"top_categories.csv\", index=False)\n",
    "print(top_categories)"
   ]
  },
  {
   "cell_type": "code",
   "execution_count": 12,
   "metadata": {},
   "outputs": [
    {
     "name": "stdout",
     "output_type": "stream",
     "text": [
      "Columns in DataFrame: Index(['id', 'name', 'title', 'description', 'num_tokens', 'avg_price_change',\n",
      "       'market_cap', 'market_cap_change', 'volume', 'volume_change',\n",
      "       'last_updated'],\n",
      "      dtype='object')\n",
      "                         id                   name                  title  \\\n",
      "0  67755b776bd44718911c2570     AI Agent Launchpad     AI Agent Launchpad   \n",
      "1  6762acaeb5d1b043d3342f44          Binance Alpha          Binance Alpha   \n",
      "2  67614f8616e45a585f030583               IP Memes               IP Memes   \n",
      "3  675ff153b866cb4763de9a61          Zodiac-Themed          Zodiac-Themed   \n",
      "4  675d07748139da285433416e  Hyperliquid Ecosystem  Hyperliquid Ecosystem   \n",
      "\n",
      "             description  num_tokens  avg_price_change    market_cap  \\\n",
      "0     AI Agent Launchpad          17          4.944330  5.277247e+09   \n",
      "1          Binance Alpha          64         -0.099769  9.654588e+09   \n",
      "2               IP Memes          15         -1.694263  5.124302e+09   \n",
      "3          Zodiac-Themed          12        -13.468781  0.000000e+00   \n",
      "4  Hyperliquid Ecosystem          16         -0.758778  8.687479e+09   \n",
      "\n",
      "   market_cap_change        volume  volume_change              last_updated  \n",
      "0           2.546012  5.562146e+08       7.213924  2025-01-01T15:13:06.105Z  \n",
      "1          -0.007405  2.012511e+09      21.316426  2024-12-22T19:04:54.759Z  \n",
      "2          -2.191853  1.202381e+09      21.511993  2024-12-17T10:17:02.954Z  \n",
      "3           0.000000  1.683142e+05     150.370492  2024-12-16T09:22:36.874Z  \n",
      "4           0.822083  1.640819e+08      49.130100  2024-12-14T04:20:55.982Z  \n",
      "Strongest category: Ethereum Ecosystem (ID: 618c0beeb7dd913155b462f9)\n",
      "Average price change: 1.409115993238938%\n",
      "Volume change: 39741569.527098775%\n"
     ]
    }
   ],
   "source": [
    "# Process the response data\n",
    "categories_df = pd.DataFrame(data)\n",
    "\n",
    "# Debugging: Check the structure of the DataFrame\n",
    "print(\"Columns in DataFrame:\", categories_df.columns)\n",
    "print(categories_df.head())\n",
    "\n",
    "# Ensure numeric columns are properly cast\n",
    "categories_df[\"avg_price_change\"] = pd.to_numeric(categories_df[\"avg_price_change\"], errors=\"coerce\")\n",
    "categories_df[\"volume_change\"] = pd.to_numeric(categories_df[\"volume_change\"], errors=\"coerce\")\n",
    "\n",
    "# Compute a combined score based on available metrics\n",
    "categories_df[\"combined_score\"] = (\n",
    "    categories_df[\"avg_price_change\"].fillna(0) + categories_df[\"volume_change\"].fillna(0)\n",
    ")\n",
    "\n",
    "# Select the strongest category based on the combined score\n",
    "if not categories_df.empty:\n",
    "    strongest_category = categories_df.sort_values(by=\"combined_score\", ascending=False).iloc[0]\n",
    "    strongest_category_id = strongest_category[\"id\"]\n",
    "    strongest_category_name = strongest_category[\"name\"]\n",
    "\n",
    "    print(f\"Strongest category: {strongest_category_name} (ID: {strongest_category_id})\")\n",
    "    print(f\"Average price change: {strongest_category['avg_price_change']}%\")\n",
    "    print(f\"Volume change: {strongest_category['volume_change']}%\")\n",
    "\n",
    "    # Save results to CSV for further analysis\n",
    "    categories_df.to_csv(\"all_categories.csv\", index=False)\n",
    "    pd.DataFrame([strongest_category]).to_csv(\"strongest_category.csv\", index=False)\n",
    "else:\n",
    "    print(\"No data available to determine the strongest category.\")\n"
   ]
  }
 ],
 "metadata": {
  "kernelspec": {
   "display_name": "martingale_bot",
   "language": "python",
   "name": "python3"
  },
  "language_info": {
   "codemirror_mode": {
    "name": "ipython",
    "version": 3
   },
   "file_extension": ".py",
   "mimetype": "text/x-python",
   "name": "python",
   "nbconvert_exporter": "python",
   "pygments_lexer": "ipython3",
   "version": "3.9.21"
  }
 },
 "nbformat": 4,
 "nbformat_minor": 2
}
