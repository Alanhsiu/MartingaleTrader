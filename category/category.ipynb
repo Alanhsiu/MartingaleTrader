{
 "cells": [
  {
   "cell_type": "markdown",
   "metadata": {},
   "source": [
    "### Environment Setup"
   ]
  },
  {
   "cell_type": "code",
   "execution_count": 7,
   "metadata": {},
   "outputs": [
    {
     "name": "stdout",
     "output_type": "stream",
     "text": [
      "API_KEY_CMC found!\n"
     ]
    }
   ],
   "source": [
    "import os\n",
    "import pandas as pd\n",
    "import requests\n",
    "from dotenv import load_dotenv\n",
    "\n",
    "load_dotenv()\n",
    "API_KEY_CMC = os.getenv(\"CMC_API_KEY\")\n",
    "API_KEY_BINANCE = os.getenv('API_KEY_BINANCE')\n",
    "API_SECRET_BINANCE = os.getenv('API_SECRET_BINANCE')\n",
    "\n",
    "if API_KEY_CMC:\n",
    "    print(\"API_KEY_CMC found!\")\n",
    "else:\n",
    "    print(\"API_KEY_CMC not found. Please set it in the .env file. See README.md for more info.\")"
   ]
  },
  {
   "cell_type": "markdown",
   "metadata": {},
   "source": [
    "### Data Fetching"
   ]
  },
  {
   "cell_type": "code",
   "execution_count": 8,
   "metadata": {},
   "outputs": [
    {
     "name": "stdout",
     "output_type": "stream",
     "text": [
      "Number of categories: 260\n"
     ]
    }
   ],
   "source": [
    "# Fetch categories data from CoinMarketCap API\n",
    "categories_url = \"https://pro-api.coinmarketcap.com/v1/cryptocurrency/categories\"\n",
    "headers = {\"Accepts\": \"application/json\", \"X-CMC_PRO_API_KEY\": API_KEY_CMC}\n",
    "\n",
    "response = requests.get(categories_url, headers=headers)\n",
    "\n",
    "if response.status_code != 200:\n",
    "    print(f\"Error fetching categories: {response.status_code}\")\n",
    "    exit()\n",
    "\n",
    "# Parse response data\n",
    "categories_data = response.json()[\"data\"]\n",
    "print(f\"Number of categories: {len(categories_data)}\")"
   ]
  },
  {
   "cell_type": "markdown",
   "metadata": {},
   "source": [
    "### Data Processing"
   ]
  },
  {
   "cell_type": "code",
   "execution_count": 12,
   "metadata": {},
   "outputs": [
    {
     "name": "stdout",
     "output_type": "stream",
     "text": [
      "Top category: Ethereum Ecosystem (volume rank: 1.0)\n"
     ]
    }
   ],
   "source": [
    "# Convert categories data to a DataFrame\n",
    "categories_df = pd.DataFrame(categories_data)\n",
    "\n",
    "# Rank market_cap_change and volume_change\n",
    "categories_df[\"market_cap_rank\"] = categories_df[\"market_cap_change\"].rank(ascending=False)\n",
    "categories_df[\"volume_rank\"] = categories_df[\"volume_change\"].rank(ascending=False)\n",
    "\n",
    "# Combine ranks (lower is better)\n",
    "# categories_df[\"combined_rank\"] = categories_df[\"market_cap_rank\"] + categories_df[\"volume_rank\"]\n",
    "\n",
    "# Sort by combined rank (lower combined_rank indicates stronger performance)\n",
    "categories_df = categories_df.sort_values(by=\"volume_rank\")\n",
    "# print(categories_df[[\"name\", \"combined_rank\", \"market_cap_rank\", \"volume_rank\"]])\n",
    "\n",
    "# Get the top 1 category\n",
    "top_category = categories_df.iloc[0]\n",
    "print(f\"Top category: {top_category['name']} (volume rank: {top_category['volume_rank']})\")\n",
    "# print(f\"Top category: {top_category['name']} (combined rank: {top_category['combined_rank']})\")"
   ]
  },
  {
   "cell_type": "code",
   "execution_count": 4,
   "metadata": {},
   "outputs": [
    {
     "name": "stdout",
     "output_type": "stream",
     "text": [
      "Top coin in category 'Filesharing':\n",
      "name                   Filecoin\n",
      "market_cap    3563114353.569911\n",
      "symbol                      FIL\n",
      "Name: 0, dtype: object\n"
     ]
    }
   ],
   "source": [
    "# Fetch coins in the top category\n",
    "category_id = top_category[\"id\"]\n",
    "category_name = top_category[\"name\"]\n",
    "\n",
    "coins_url = \"https://pro-api.coinmarketcap.com/v1/cryptocurrency/category\"\n",
    "headers = {\"Accepts\": \"application/json\", \"X-CMC_PRO_API_KEY\": API_KEY_CMC}\n",
    "params = {\"id\": category_id}\n",
    "\n",
    "response = requests.get(coins_url, headers=headers, params=params)\n",
    "\n",
    "# Handle API response\n",
    "if response.status_code != 200:\n",
    "    print(f\"Error: {response.status_code}, Message: {response.text}\")\n",
    "    exit()\n",
    "\n",
    "data = response.json().get(\"data\", {}).get(\"coins\", [])\n",
    "if not data:\n",
    "    print(f\"No coins found in category '{category_name}'.\")\n",
    "    exit()\n",
    "\n",
    "# Process coins data\n",
    "coins_df = pd.DataFrame(data)\n",
    "if \"quote\" in coins_df.columns:\n",
    "    coins_df[\"market_cap\"] = coins_df[\"quote\"].apply(\n",
    "        lambda x: x.get(\"USD\", {}).get(\"market_cap\") if isinstance(x, dict) else None\n",
    "    )\n",
    "\n",
    "# Convert market_cap to numeric and sort\n",
    "coins_df[\"market_cap\"] = pd.to_numeric(coins_df[\"market_cap\"], errors=\"coerce\")\n",
    "# top_coins = coins_df.sort_values(by=\"market_cap\", ascending=False).head(5)\n",
    "\n",
    "# # Print top 5 coins\n",
    "# print(f\"Top 5 coins in category '{category_name}':\")\n",
    "# print(top_coins[[\"name\", \"market_cap\", \"symbol\"]])\n",
    "\n",
    "# print top 1 coin\n",
    "top_coin = coins_df.iloc[0]\n",
    "print(f\"Top coin in category '{category_name}':\")\n",
    "print(top_coin[[\"name\", \"market_cap\", \"symbol\"]])"
   ]
  },
  {
   "cell_type": "code",
   "execution_count": null,
   "metadata": {},
   "outputs": [
    {
     "name": "stdout",
     "output_type": "stream",
     "text": [
      "Bitcoin (BTC) tags: ['mineable', 'pow', 'sha-256', 'store-of-value', 'state-channel', 'coinbase-ventures-portfolio', 'three-arrows-capital-portfolio', 'polychain-capital-portfolio', 'binance-labs-portfolio', 'blockchain-capital-portfolio', 'boostvc-portfolio', 'cms-holdings-portfolio', 'dcg-portfolio', 'dragonfly-capital-portfolio', 'electric-capital-portfolio', 'fabric-ventures-portfolio', 'framework-ventures-portfolio', 'galaxy-digital-portfolio', 'huobi-capital-portfolio', 'alameda-research-portfolio', 'a16z-portfolio', '1confirmation-portfolio', 'winklevoss-capital-portfolio', 'usv-portfolio', 'placeholder-ventures-portfolio', 'pantera-capital-portfolio', 'multicoin-capital-portfolio', 'paradigm-portfolio', 'bitcoin-ecosystem', 'ftx-bankruptcy-estate', '2017-2018-alt-season']\n",
      "Ethereum (ETH) tags: ['pos', 'smart-contracts', 'ethereum-ecosystem', 'coinbase-ventures-portfolio', 'three-arrows-capital-portfolio', 'polychain-capital-portfolio', 'binance-labs-portfolio', 'blockchain-capital-portfolio', 'boostvc-portfolio', 'cms-holdings-portfolio', 'dcg-portfolio', 'dragonfly-capital-portfolio', 'electric-capital-portfolio', 'fabric-ventures-portfolio', 'framework-ventures-portfolio', 'hashkey-capital-portfolio', 'kenetic-capital-portfolio', 'huobi-capital-portfolio', 'alameda-research-portfolio', 'a16z-portfolio', '1confirmation-portfolio', 'winklevoss-capital-portfolio', 'usv-portfolio', 'placeholder-ventures-portfolio', 'pantera-capital-portfolio', 'multicoin-capital-portfolio', 'paradigm-portfolio', 'layer-1', 'ftx-bankruptcy-estate']\n"
     ]
    }
   ],
   "source": [
    "import requests\n",
    "\n",
    "api_key = API_KEY_CMC\n",
    "url = 'https://pro-api.coinmarketcap.com/v1/cryptocurrency/info'\n",
    "parameters = {\n",
    "    'symbol': 'BTC,ETH'\n",
    "}\n",
    "headers = {\n",
    "    'Accepts': 'application/json',\n",
    "    'X-CMC_PRO_API_KEY': api_key,\n",
    "}\n",
    "\n",
    "response = requests.get(url, headers=headers, params=parameters)\n",
    "data = response.json()\n",
    "\n",
    "# 輸出比特幣的分類標籤\n",
    "print('Bitcoin (BTC) tags:', data['data']['BTC']['category'])\n",
    "\n",
    "# 輸出以太坊的分類標籤\n",
    "print('Ethereum (ETH) tags:', data['data']['ETH']['tags'])\n"
   ]
  }
 ],
 "metadata": {
  "kernelspec": {
   "display_name": "martingale",
   "language": "python",
   "name": "python3"
  },
  "language_info": {
   "codemirror_mode": {
    "name": "ipython",
    "version": 3
   },
   "file_extension": ".py",
   "mimetype": "text/x-python",
   "name": "python",
   "nbconvert_exporter": "python",
   "pygments_lexer": "ipython3",
   "version": "3.9.21"
  }
 },
 "nbformat": 4,
 "nbformat_minor": 2
}
