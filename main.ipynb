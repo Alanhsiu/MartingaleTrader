{
 "cells": [
  {
   "cell_type": "markdown",
   "metadata": {},
   "source": [
    "### Environment Setup"
   ]
  },
  {
   "cell_type": "code",
   "execution_count": 1,
   "metadata": {},
   "outputs": [
    {
     "name": "stdout",
     "output_type": "stream",
     "text": [
      "API_KEY found!\n"
     ]
    }
   ],
   "source": [
    "import os\n",
    "import pandas as pd\n",
    "import requests\n",
    "from dotenv import load_dotenv\n",
    "\n",
    "load_dotenv()\n",
    "CMC_API_KEY = os.getenv(\"CMC_API_KEY\")\n",
    "\n",
    "if CMC_API_KEY:\n",
    "    print(\"API_KEY found!\")\n",
    "else:\n",
    "    print(\"API_KEY not found. Please set it in the .env file. See README.md for more info.\")"
   ]
  },
  {
   "cell_type": "markdown",
   "metadata": {},
   "source": [
    "### Data Fetching"
   ]
  },
  {
   "cell_type": "code",
   "execution_count": 2,
   "metadata": {},
   "outputs": [
    {
     "name": "stdout",
     "output_type": "stream",
     "text": [
      "Number of categories: 259\n"
     ]
    }
   ],
   "source": [
    "# Fetch categories data from CoinMarketCap API\n",
    "categories_url = \"https://pro-api.coinmarketcap.com/v1/cryptocurrency/categories\"\n",
    "headers = {\"Accepts\": \"application/json\", \"X-CMC_PRO_API_KEY\": CMC_API_KEY}\n",
    "\n",
    "response = requests.get(categories_url, headers=headers)\n",
    "\n",
    "if response.status_code != 200:\n",
    "    print(f\"Error fetching categories: {response.status_code}\")\n",
    "    exit()\n",
    "\n",
    "# Parse response data\n",
    "categories_data = response.json()[\"data\"]\n",
    "print(f\"Number of categories: {len(categories_data)}\")"
   ]
  },
  {
   "cell_type": "markdown",
   "metadata": {},
   "source": [
    "### Data Processing"
   ]
  },
  {
   "cell_type": "code",
   "execution_count": 3,
   "metadata": {},
   "outputs": [
    {
     "name": "stdout",
     "output_type": "stream",
     "text": [
      "                     name  combined_rank  market_cap_rank  volume_rank\n",
      "255   NFTs & Collectibles           17.0             12.0          5.0\n",
      "254   BNB Chain Ecosystem           25.0             13.0         12.0\n",
      "137        HECO Ecosystem           28.0              6.0         22.0\n",
      "243       Smart Contracts           55.0             11.0         44.0\n",
      "198      Content Creation           57.0             18.0         39.0\n",
      "..                    ...            ...              ...          ...\n",
      "51          Reddit Points          479.0            225.0        254.0\n",
      "244               Scaling          483.0            254.0        229.0\n",
      "99   Kommunitas Launchpad          484.0            242.0        242.0\n",
      "180            DeFi Index          487.0            237.0        250.0\n",
      "230    Yearn Partnerships          490.0            241.0        249.0\n",
      "\n",
      "[259 rows x 4 columns]\n",
      "Top category: NFTs & Collectibles (combined rank: 17.0)\n"
     ]
    }
   ],
   "source": [
    "# Convert categories data to a DataFrame\n",
    "categories_df = pd.DataFrame(categories_data)\n",
    "\n",
    "# Rank market_cap_change and volume_change\n",
    "categories_df[\"market_cap_rank\"] = categories_df[\"market_cap_change\"].rank(ascending=False)\n",
    "categories_df[\"volume_rank\"] = categories_df[\"volume_change\"].rank(ascending=False)\n",
    "\n",
    "# Combine ranks (lower is better)\n",
    "categories_df[\"combined_rank\"] = categories_df[\"market_cap_rank\"] + categories_df[\"volume_rank\"]\n",
    "\n",
    "# Sort by combined rank (lower combined_rank indicates stronger performance)\n",
    "categories_df = categories_df.sort_values(by=\"combined_rank\")\n",
    "print(categories_df[[\"name\", \"combined_rank\", \"market_cap_rank\", \"volume_rank\"]])\n",
    "\n",
    "# Get the top 1 category\n",
    "top_category = categories_df.iloc[0]\n",
    "print(f\"Top category: {top_category['name']} (combined rank: {top_category['combined_rank']})\")"
   ]
  },
  {
   "cell_type": "code",
   "execution_count": 4,
   "metadata": {},
   "outputs": [
    {
     "name": "stdout",
     "output_type": "stream",
     "text": [
      "Top 5 coins in category 'NFTs & Collectibles':\n",
      "                                    name    market_cap\n",
      "0                                 Render  4.473849e+09\n",
      "1  Artificial Superintelligence Alliance  3.819648e+09\n",
      "2                                 Stacks  2.690270e+09\n",
      "3                         Pudgy Penguins  2.621920e+09\n",
      "4                              Immutable  2.483324e+09\n"
     ]
    }
   ],
   "source": [
    "# Fetch coins in the top category\n",
    "category_id = top_category[\"id\"]\n",
    "category_name = top_category[\"name\"]\n",
    "\n",
    "coins_url = \"https://pro-api.coinmarketcap.com/v1/cryptocurrency/category\"\n",
    "headers = {\"Accepts\": \"application/json\", \"X-CMC_PRO_API_KEY\": CMC_API_KEY}\n",
    "params = {\"id\": category_id}\n",
    "\n",
    "response = requests.get(coins_url, headers=headers, params=params)\n",
    "\n",
    "# Handle API response\n",
    "if response.status_code != 200:\n",
    "    print(f\"Error: {response.status_code}, Message: {response.text}\")\n",
    "    exit()\n",
    "\n",
    "data = response.json().get(\"data\", {}).get(\"coins\", [])\n",
    "if not data:\n",
    "    print(f\"No coins found in category '{category_name}'.\")\n",
    "    exit()\n",
    "\n",
    "# Process coins data\n",
    "coins_df = pd.DataFrame(data)\n",
    "if \"quote\" in coins_df.columns:\n",
    "    coins_df[\"market_cap\"] = coins_df[\"quote\"].apply(\n",
    "        lambda x: x.get(\"USD\", {}).get(\"market_cap\") if isinstance(x, dict) else None\n",
    "    )\n",
    "\n",
    "# Convert market_cap to numeric and sort\n",
    "coins_df[\"market_cap\"] = pd.to_numeric(coins_df[\"market_cap\"], errors=\"coerce\")\n",
    "top_coins = coins_df.sort_values(by=\"market_cap\", ascending=False).head(5)\n",
    "\n",
    "# Print top 5 coins\n",
    "print(f\"Top 5 coins in category '{category_name}':\")\n",
    "print(top_coins[[\"name\", \"market_cap\"]])"
   ]
  }
 ],
 "metadata": {
  "kernelspec": {
   "display_name": "martingale",
   "language": "python",
   "name": "python3"
  },
  "language_info": {
   "codemirror_mode": {
    "name": "ipython",
    "version": 3
   },
   "file_extension": ".py",
   "mimetype": "text/x-python",
   "name": "python",
   "nbconvert_exporter": "python",
   "pygments_lexer": "ipython3",
   "version": "3.9.21"
  }
 },
 "nbformat": 4,
 "nbformat_minor": 2
}
