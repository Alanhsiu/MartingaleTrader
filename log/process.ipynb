{
 "cells": [
  {
   "cell_type": "markdown",
   "metadata": {},
   "source": [
    "### Parse log file"
   ]
  },
  {
   "cell_type": "code",
   "execution_count": 6,
   "metadata": {},
   "outputs": [
    {
     "name": "stdout",
     "output_type": "stream",
     "text": [
      "Parsed log file 'predictions.log' to CSV file 'predictions.csv'\n"
     ]
    }
   ],
   "source": [
    "import re\n",
    "import csv\n",
    "\n",
    "def parse_log_to_csv(log_file, csv_file):\n",
    "    log_pattern = re.compile(\n",
    "        r\"Market prediction for (?P<symbol>\\w+) starting on (?P<start_date>\\d{4}-\\d{2}-\\d{2}): (?P<market_prediction>[\\w\\s]+), End Value = (?P<end_value>[\\d\\.]+), Sharpe Ratio = (?P<sharpe_ratio>[\\-\\d\\.]+)\"\n",
    "    )\n",
    "\n",
    "    with open(log_file, 'r') as log:\n",
    "        lines = log.readlines()\n",
    "\n",
    "    parsed_data = []\n",
    "    for line in lines:\n",
    "        match = log_pattern.search(line)\n",
    "        if match:\n",
    "            parsed_data.append(match.groupdict())\n",
    "\n",
    "    with open(csv_file, 'w', newline='') as csvfile:\n",
    "        fieldnames = ['symbol', 'start_date', 'market_prediction', 'end_value', 'sharpe_ratio']\n",
    "        writer = csv.DictWriter(csvfile, fieldnames=fieldnames)\n",
    "\n",
    "        writer.writeheader()\n",
    "        writer.writerows(parsed_data)\n",
    "\n",
    "log_file = 'predictions.log'  \n",
    "csv_file = 'predictions.csv'  \n",
    "\n",
    "parse_log_to_csv(log_file, csv_file)\n",
    "print(f\"Parsed log file '{log_file}' to CSV file '{csv_file}'\")\n"
   ]
  },
  {
   "cell_type": "markdown",
   "metadata": {},
   "source": [
    "### Statistics"
   ]
  },
  {
   "cell_type": "code",
   "execution_count": 7,
   "metadata": {},
   "outputs": [
    {
     "name": "stdout",
     "output_type": "stream",
     "text": [
      "\n",
      "Average end value, average Sharpe ratio, and count for each market prediction:\n",
      "                   avg_end_value  avg_sharpe_ratio  count\n",
      "market_prediction                                        \n",
      "Downtrend            1279.374076         -8.689103     17\n",
      "High Volatility      1501.910715        -11.351709     14\n",
      "Ranging              1465.146036        -95.348003     23\n",
      "Uptrend              1062.454745         -8.425818      7\n",
      "\n",
      "Average end value and average Sharpe ratio for all predictions:\n",
      "Average end value: 1375.6008416513696\n",
      "Average Sharpe ratio: -41.94464693855144\n"
     ]
    }
   ],
   "source": [
    "# Calculate the average end value and average Sharpe ratio for each market prediction and also calculate the average end value and average Sharpe ratio for all predictions\n",
    "\n",
    "import pandas as pd\n",
    "\n",
    "df = pd.read_csv(csv_file)\n",
    "\n",
    "grouped = df.groupby('market_prediction').agg(\n",
    "    avg_end_value=('end_value', 'mean'),\n",
    "    avg_sharpe_ratio=('sharpe_ratio', 'mean'),\n",
    "    count=('market_prediction', 'size')\n",
    ")\n",
    "\n",
    "all_avg_end_value = df['end_value'].mean()\n",
    "all_avg_sharpe_ratio = df['sharpe_ratio'].mean()\n",
    "\n",
    "print(\"\\nAverage end value, average Sharpe ratio, and count for each market prediction:\")\n",
    "print(grouped)\n",
    "print(\"\\nAverage end value and average Sharpe ratio for all predictions:\")\n",
    "print(f\"Average end value: {all_avg_end_value}\")\n",
    "print(f\"Average Sharpe ratio: {all_avg_sharpe_ratio}\")\n",
    "\n",
    "\n"
   ]
  }
 ],
 "metadata": {
  "kernelspec": {
   "display_name": "martingale",
   "language": "python",
   "name": "python3"
  },
  "language_info": {
   "codemirror_mode": {
    "name": "ipython",
    "version": 3
   },
   "file_extension": ".py",
   "mimetype": "text/x-python",
   "name": "python",
   "nbconvert_exporter": "python",
   "pygments_lexer": "ipython3",
   "version": "3.9.21"
  }
 },
 "nbformat": 4,
 "nbformat_minor": 2
}
